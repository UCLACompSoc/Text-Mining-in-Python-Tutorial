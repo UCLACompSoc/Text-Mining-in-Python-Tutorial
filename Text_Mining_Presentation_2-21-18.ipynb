{
 "cells": [
  {
   "cell_type": "markdown",
   "metadata": {
    "slideshow": {
     "slide_type": "slide"
    }
   },
   "source": [
    "<center>\n",
    "<h1>Text Mining and Machine Learning from Scratch</h1>\n",
    "<h2>Computational Sociology Wroking Group</h2>\n",
    "<h3> Feb 21, 2018<h3>\n",
    "</center>"
   ]
  },
  {
   "cell_type": "markdown",
   "metadata": {
    "slideshow": {
     "slide_type": "slide"
    }
   },
   "source": [
    "## Introduction to Text Mining Concepts\n",
    "\n",
    "For a review of text mining concepts, see: Allahyari, Mehdi et. al. \"A Brief Survey of Text Mining: Classification, Clustering and Extraction Techniques.\" 2017. ArXiv.\n",
    "        "
   ]
  },
  {
   "cell_type": "markdown",
   "metadata": {
    "slideshow": {
     "slide_type": "slide"
    }
   },
   "source": [
    "<center><h1>Battleplan</h1></center>\n",
    "\n",
    "## Part I: Programming Basics (String Operations)\n",
    "## Part II:\n",
    "* ###  Regular Expressions (Files, Looping)\n",
    "* ###  NLTK\n",
    "* ###  Naive Bayes\n"
   ]
  },
  {
   "cell_type": "markdown",
   "metadata": {
    "slideshow": {
     "slide_type": "slide"
    }
   },
   "source": [
    "<center><h1>Programming Concepts</h1></center>\n",
    "* ### Objects (basic building blocks)\n",
    "* ### Variables (named specific objects)\n",
    "* ### Functions (code for manipulating objects)"
   ]
  },
  {
   "cell_type": "markdown",
   "metadata": {
    "slideshow": {
     "slide_type": "slide"
    }
   },
   "source": [
    "## Basic Object Types:\n",
    "#### String, Int, Float, Bool"
   ]
  },
  {
   "cell_type": "code",
   "execution_count": 6,
   "metadata": {
    "slideshow": {
     "slide_type": "subslide"
    }
   },
   "outputs": [
    {
     "data": {
      "text/plain": [
       "False"
      ]
     },
     "execution_count": 6,
     "metadata": {},
     "output_type": "execute_result"
    }
   ],
   "source": [
    "\"sociology\" #strings are demarcated with single or double quotes\n",
    "\n",
    "123 #integer\n",
    "\n",
    ".123 #float\n",
    "\n",
    "True #Boolean (sometimes also represented as 1)\n",
    "\n",
    "False #Boolean (sometimes also represented as 0)\n",
    "\n",
    "#(btw, anything after a # is a comment in python, so this won't be interpreted as code"
   ]
  },
  {
   "cell_type": "markdown",
   "metadata": {
    "slideshow": {
     "slide_type": "subslide"
    }
   },
   "source": [
    "## Objects for Holding other Objects\n",
    "\n",
    "#### List, Tuple, Dictionary"
   ]
  },
  {
   "cell_type": "code",
   "execution_count": 16,
   "metadata": {
    "collapsed": true,
    "slideshow": {
     "slide_type": "subslide"
    }
   },
   "outputs": [],
   "source": [
    "[\"sociology\",123,.123,True,False] #lists (ordered collection of objects)\n",
    "\n",
    "(\"sociology\",123,.123,True,False) #tuple (ordered collection that can't be edited [\"immutable\"])\n"
   ]
  },
  {
   "cell_type": "code",
   "execution_count": 33,
   "metadata": {
    "collapsed": true
   },
   "outputs": [],
   "source": [
    "{\"key1\":\"value1\",\"key2\":\"value2a\",\"key3\":\"value3\"} #dictionary (indexed collection)\n",
    "\n",
    "#Dictionaries can be very useful to keep track of hierarchical data, such as the names and types of your family pets:\n",
    "AllMyPets= {\"MyDogs\":\"Kai\",\"MyCats\": [\"Nanook\", \"Milo\"],\"MyFrogs\":\"Kermit\"} \n",
    "\n",
    "AllMyPets.keys() #what are the all the keys (i.e., what are the types of pets?)\n",
    "\n",
    "AllMyPets['my_new_type_of_pet']= 'Pickles'"
   ]
  },
  {
   "cell_type": "markdown",
   "metadata": {},
   "source": [
    "## Activitiy: \n",
    "### List the values (i.e., names of all pets) in the dictionary \"AllMyPets\""
   ]
  },
  {
   "cell_type": "code",
   "execution_count": null,
   "metadata": {
    "collapsed": true
   },
   "outputs": [],
   "source": []
  },
  {
   "cell_type": "markdown",
   "metadata": {
    "collapsed": true,
    "slideshow": {
     "slide_type": "slide"
    }
   },
   "source": [
    "## Activity:\n",
    "### In the box below, create a dictionary with the keys \"Agatha\",\"Boban\", and \"Cora\" and values are their ages (13, 12, 9). Are ages a boolean, integer, or float?\n"
   ]
  },
  {
   "cell_type": "code",
   "execution_count": null,
   "metadata": {
    "collapsed": true
   },
   "outputs": [],
   "source": []
  },
  {
   "cell_type": "markdown",
   "metadata": {
    "slideshow": {
     "slide_type": "slide"
    }
   },
   "source": [
    "## Objects can be stored in memory by assigning them to variables\n"
   ]
  },
  {
   "cell_type": "code",
   "execution_count": 25,
   "metadata": {
    "collapsed": true,
    "slideshow": {
     "slide_type": "subslide"
    }
   },
   "outputs": [],
   "source": [
    "my_string = \"sociology\" \n",
    "\n",
    "my_int = 123\n",
    "\n",
    "my_list = [\"sociology\",123,.123,True,False]\n",
    "\n",
    "#good style to name variables with either \"my_string\" or \"myString\" convention"
   ]
  },
  {
   "cell_type": "markdown",
   "metadata": {
    "slideshow": {
     "slide_type": "slide"
    }
   },
   "source": [
    "## Functions\n",
    "\n",
    "* ### The  <span style=\"color:green\"> **print** </span> function takes any number of objects as *arguments* and prints them to screen\n",
    "\n",
    "* ### Let's use our first function to see what  <span style=\"color:gray\"> **my_list** </span> looks like:\n",
    "\n"
   ]
  },
  {
   "cell_type": "code",
   "execution_count": 26,
   "metadata": {
    "slideshow": {
     "slide_type": "subslide"
    }
   },
   "outputs": [
    {
     "name": "stdout",
     "output_type": "stream",
     "text": [
      "['sociology', 123, 0.123, True, False]\n",
      "123 sociology\n"
     ]
    }
   ],
   "source": [
    "print(my_list)\n",
    "print(my_int,my_string)"
   ]
  },
  {
   "cell_type": "markdown",
   "metadata": {
    "slideshow": {
     "slide_type": "slide"
    }
   },
   "source": [
    "## List/Tuple/String Indexing"
   ]
  },
  {
   "cell_type": "code",
   "execution_count": 27,
   "metadata": {
    "slideshow": {
     "slide_type": "subslide"
    }
   },
   "outputs": [
    {
     "name": "stdout",
     "output_type": "stream",
     "text": [
      "s\n",
      "0.123\n",
      "False\n"
     ]
    }
   ],
   "source": [
    "print(my_string[0]) #python is \"0-indexed\" so first object is index 0\n",
    "\n",
    "print(my_list[2]) #third element of my_list\n",
    "\n",
    "print(my_list[-1]) #negative indexing begins with -1 (-1 gives you the last element of my_list, and -4 would give you the 4th to last elementof my_list)"
   ]
  },
  {
   "cell_type": "markdown",
   "metadata": {
    "slideshow": {
     "slide_type": "slide"
    }
   },
   "source": [
    "## Activity:\n",
    "### In the box below, how do you get the last character of <span style=\"color:gray\"> **my_string** </span>? What about the second-to-last character?"
   ]
  },
  {
   "cell_type": "code",
   "execution_count": 28,
   "metadata": {
    "collapsed": true,
    "slideshow": {
     "slide_type": "notes"
    }
   },
   "outputs": [],
   "source": [
    "my_string = \"sociology\" "
   ]
  },
  {
   "cell_type": "markdown",
   "metadata": {
    "slideshow": {
     "slide_type": "slide"
    }
   },
   "source": [
    "## Slicing"
   ]
  },
  {
   "cell_type": "code",
   "execution_count": 29,
   "metadata": {
    "slideshow": {
     "slide_type": "subslide"
    }
   },
   "outputs": [
    {
     "data": {
      "text/plain": [
       "['sociology', 123, 0.123]"
      ]
     },
     "execution_count": 29,
     "metadata": {},
     "output_type": "execute_result"
    }
   ],
   "source": [
    "my_string[0:3] #when slicing, last element isn't included (returns my_string characters 1,2,3)\n",
    "\n",
    "my_list[2:] # third element to end\n",
    "\n",
    "my_list[:-2] # beginning to second to last element"
   ]
  },
  {
   "cell_type": "code",
   "execution_count": 30,
   "metadata": {
    "slideshow": {
     "slide_type": "subslide"
    }
   },
   "outputs": [
    {
     "name": "stdout",
     "output_type": "stream",
     "text": [
      "sociology is the best\n",
      "['sociology', 123, 0.123, True, False, 'is', 'the', 'best', '.', 'I', 'love', 'it']\n"
     ]
    }
   ],
   "source": [
    "my_string = my_string + \" is the best\" #fills me with joy!\n",
    "\n",
    "print(my_string)\n",
    "\n",
    "my_list = my_list + [\"is\", \"the\", \"best\"] #it looks sad this way...\n",
    "\n",
    "my_list += [\".\",\"I\", \"love\", \"it\"] #same as above (this has gotten kinda creepy)\n",
    "\n",
    "print(my_list)"
   ]
  },
  {
   "cell_type": "markdown",
   "metadata": {
    "slideshow": {
     "slide_type": "slide"
    }
   },
   "source": [
    "## Activity:\n",
    "### In the box below, create a new list containing: the first character of <span style=\"color:gray\"> **my_string** </span>, the second element of <span style=\"color:gray\"> **my_list** </span>, and the value of my_int <span style=\"color:gray\"> **my_int** </span>. Assign it to a variable name of your choice."
   ]
  },
  {
   "cell_type": "code",
   "execution_count": null,
   "metadata": {
    "collapsed": true,
    "slideshow": {
     "slide_type": "notes"
    }
   },
   "outputs": [],
   "source": []
  },
  {
   "cell_type": "markdown",
   "metadata": {
    "slideshow": {
     "slide_type": "slide"
    }
   },
   "source": [
    "## Objects have built in functions called *methods*"
   ]
  },
  {
   "cell_type": "code",
   "execution_count": 32,
   "metadata": {
    "slideshow": {
     "slide_type": "subslide"
    }
   },
   "outputs": [
    {
     "name": "stdout",
     "output_type": "stream",
     "text": [
      "['this', 'is', 'my', 'first', 'list']\n",
      "['this', 'is', 'my', 'first', 'list', 'ever']\n"
     ]
    }
   ],
   "source": [
    "list1= [\"this\", \"is\" , \"my\", \"first\", \"list\"]\n",
    "print(list1)\n",
    "list1.append(\"ever\") #note that .append is a method which modifies its object (list1) rather than returning a new object that is modified. In other words, you don't assign it a name.\n",
    "print(list1)"
   ]
  },
  {
   "cell_type": "code",
   "execution_count": null,
   "metadata": {
    "collapsed": true,
    "slideshow": {
     "slide_type": "notes"
    }
   },
   "outputs": [],
   "source": []
  },
  {
   "cell_type": "markdown",
   "metadata": {
    "slideshow": {
     "slide_type": "subslide"
    }
   },
   "source": [
    "## String objects have lots of methods you may find useful!\n",
    "\n",
    "* ### [see documentation (https://docs.python.org/2/library/string.html) ]"
   ]
  },
  {
   "cell_type": "code",
   "execution_count": 34,
   "metadata": {
    "slideshow": {
     "slide_type": "slide"
    }
   },
   "outputs": [
    {
     "name": "stdout",
     "output_type": "stream",
     "text": [
      "Sociology is the best\n",
      "sociology is the \n",
      "17\n",
      "sociology is the best\n",
      "sociology is the worst\n",
      "1\n",
      "True\n"
     ]
    }
   ],
   "source": [
    "print(my_string.capitalize()) \n",
    "\n",
    "li= my_string.find(\"best\") #get index where best starts\n",
    "\n",
    "print(my_string[:li])\n",
    "\n",
    "print(my_string.rfind(\"best\")) #start from end\n",
    "\n",
    "my_string += '  \\n\\t\\r' #add whitespace characters to end of string. (\\t=tab, \\n=linux/mac newline,\\r=windows newline)\n",
    "\n",
    "print(my_string.strip()) #strip whitespace from both ends\n",
    "\n",
    "my_string= my_string.strip()\n",
    "\n",
    "print(my_string.replace(\"best\",\"worst\")) #replace all instances of \"best\" with \"worst\"\n",
    "\n",
    "print(my_string.count(\"best\")) #counts non-overlapping occurences\n",
    "\n",
    "my_text_list= my_string.split(' ') #split string into list of words\n",
    "\n",
    "my_string2 = ' '.join(my_text_list) #join list on character\n",
    "\n",
    "print(my_string==my_string2) #== tests for equivalence\n",
    "\n",
    "#note that because methods are actually functions with itself as input, you always need () [& possibly other arguments]\n",
    "#what's actually going on here is the object is providing an argument to the function you can't see called 'self'\n",
    "\n"
   ]
  },
  {
   "cell_type": "markdown",
   "metadata": {
    "slideshow": {
     "slide_type": "slide"
    }
   },
   "source": [
    "## Hard Activity:\n",
    "### This one is a bit more involved.\n",
    "#### 1. Create **list** containing the words \"UCLA Sociology Department\" with var name of your choice.\n",
    "#### 2. Replace the middle word with \"Anthropology\"\n",
    "#### 3. Join the results to a string\n",
    "#### 4. Find the first occurence of the letter r from the end of the string. Store it to a variable\n",
    "#### 5. Create a new string from this index to the end of your string."
   ]
  },
  {
   "cell_type": "code",
   "execution_count": null,
   "metadata": {
    "collapsed": true,
    "slideshow": {
     "slide_type": "notes"
    }
   },
   "outputs": [],
   "source": []
  },
  {
   "cell_type": "markdown",
   "metadata": {
    "collapsed": true,
    "slideshow": {
     "slide_type": "slide"
    }
   },
   "source": [
    "## Now let's try using the open function which returns a file object.\n",
    "\n",
    "* ### We are going to use a **for loop** to process each object in a list (in this case lines in the file)\n",
    "\n",
    "* ### You can download the data for this part [here](https://ucla.box.com/s/flzanx2ldgrjqeg00w1uxmw6qa0bradd). You'll need to copy the path to your file into the code\n",
    "\n",
    "* ### Let's try it\n"
   ]
  },
  {
   "cell_type": "code",
   "execution_count": 5,
   "metadata": {
    "collapsed": true,
    "slideshow": {
     "slide_type": "slide"
    }
   },
   "outputs": [],
   "source": [
    "#movie_review_file=open(\"/Users/bernie/Downloads/labeledTrainData.tsv\") #YOUR PATH HERE #this may be different for macs vs PCs\n",
    "movie_review_file=open(\"C:/Users/Alina Arseniev/Dropbox/CompSoc_WG/labeledTrainData.tsv\", encoding=\"utf8\" ) \n",
    "\n",
    "sentiment_tracker=[]\n",
    "\n",
    "for line in movie_review_file:\n",
    "    fields = line.split('\\t') #this is a tab separated file\n",
    "    review_id=fields[0]\n",
    "    review_sentiment=fields[1] \n",
    "    sentiment_tracker.append(review_sentiment) #take a look at what this is doing by looking at \"esntiment tracker\" below. Is this array useful as is?\n",
    "    review_text=fields[2]\n",
    "    \n",
    "movie_review_file.close() #always close the file after you're done with it"
   ]
  },
  {
   "cell_type": "markdown",
   "metadata": {
    "slideshow": {
     "slide_type": "slide"
    }
   },
   "source": [
    "## Loops\n",
    "The construction\n",
    "```python\n",
    "for line in movie_review_file:\n",
    "```\n",
    "is called a ***loop***. More specifically it is a ```for``` loop. Note that the loop contains an \"iterator\" ```line``` and an \"iterable\" ```movie_review_file```. We are iterating through ```movie_review_file``` and returning each **value** sequentially. Another way to think about this is that our file is a list of strings and we are getting each string sequentially.\n",
    "\n",
    "In python, we use tabs to indicate when we are inside a loop or condition block. Other languages (like R) use the C-style syntax {}. "
   ]
  },
  {
   "cell_type": "code",
   "execution_count": 7,
   "metadata": {},
   "outputs": [],
   "source": [
    "sentiment_tracker #note that the first \"line\" in the for loop is are headings for each field. So we get the heading \"sentiment\" in here. "
   ]
  },
  {
   "cell_type": "markdown",
   "metadata": {},
   "source": [
    "## Activity: \n",
    "\n",
    "Get a better array for \"sentiment_tracker\" that doens't include the header. \n",
    "\n",
    "HINT: you could just slice the current array of \"sentiment-tracker, OR, you could adjust the for-loop so it does seomthing different for the lines that are not the header line"
   ]
  },
  {
   "cell_type": "code",
   "execution_count": null,
   "metadata": {
    "collapsed": true
   },
   "outputs": [],
   "source": []
  },
  {
   "cell_type": "markdown",
   "metadata": {
    "slideshow": {
     "slide_type": "slide"
    }
   },
   "source": [
    "## Conditions\n",
    "\n",
    "Let's make it a bit more complicated. We'll count the number of reviews, and use a **condition** to test whether the word \"bad\" was found in the review. If it is found, we are going to increment a counter to tally the number of reviews with word bad in it.\n",
    "\n",
    "This is your first introduction to an if else statement. ```If``` statements test some equivalence and do something if that test returns ```True```. \n",
    "We saw the equivalence test ```==``` (equals) before, but here we see its counterpart ```!=```. There are four more equivalence tests:\n",
    "'>',\n",
    "'>=',\n",
    "'<',\n",
    "'<=',\n",
    "\n",
    "```python\n",
    "if review_text.find('bad') !=-1:\n",
    "```\n",
    "If these arent intuitive to you, you can also write \n",
    "\n",
    "```python\n",
    "if review_text.find('bad') is not -1:\n",
    "```\n"
   ]
  },
  {
   "cell_type": "code",
   "execution_count": 32,
   "metadata": {
    "slideshow": {
     "slide_type": "subslide"
    }
   },
   "outputs": [
    {
     "name": "stdout",
     "output_type": "stream",
     "text": [
      "6183 25001\n"
     ]
    }
   ],
   "source": [
    "#movie_review_file=open(\"/Users/bernie/Downloads/labeledTrainData.tsv\")\n",
    "movie_review_file=open(\"C:/Users/Alina Arseniev/Downloads/labeledTrainData.tsv\", encoding=\"utf8\" ) \n",
    "\n",
    "count_bad=0\n",
    "count_total=0\n",
    "for line in movie_review_file:\n",
    "    fields = line.split('\\t') #this is a tab separated file\n",
    "    \n",
    "    review_id=fields[0]\n",
    "    review_sentiment=fields[1]\n",
    "    review_text=fields[2]\n",
    "    \n",
    "    count_total+=1\n",
    "    \n",
    "    if review_text.find('bad') !=-1: #find returns -1 if it can't find a word\n",
    "        count_bad+=1\n",
    "    else:\n",
    "        pass #dont do anything\n",
    "\n",
    "movie_review_file.close() #always close the file after you're done with it\n",
    "\n",
    "print(count_bad,count_total)"
   ]
  },
  {
   "cell_type": "markdown",
   "metadata": {
    "collapsed": true,
    "slideshow": {
     "slide_type": "slide"
    }
   },
   "source": [
    "## Part II: Regular Expressions"
   ]
  },
  {
   "cell_type": "markdown",
   "metadata": {
    "slideshow": {
     "slide_type": "slide"
    }
   },
   "source": [
    "## Regular expressions expand string methods like \"find\" and \"replace\" with a special syntax that allows for flexible string matching\n",
    "\n",
    "* ### More info can be found [here](https://docs.python.org/2/library/re.html)\n",
    "* ### [This](https://regexone.com) also seems like a good tutorial"
   ]
  },
  {
   "cell_type": "markdown",
   "metadata": {
    "slideshow": {
     "slide_type": "slide"
    }
   },
   "source": [
    "## First we'll need to <span style=\"color:green\"> **import** </span> a **package**.    \n",
    "\n",
    "* ### Packages contain more complex functions and objects than those that are built-in in python\n",
    "* ###  The \"re\" package contains functions for regular expression matching \n",
    "\n",
    "* ### If we import an entire package, we need to prepend the package name to use its objects/functions \n",
    "* ### Alternatively, we could import just the objects/functions we need\n",
    "\n",
    "\n"
   ]
  },
  {
   "cell_type": "markdown",
   "metadata": {
    "slideshow": {
     "slide_type": "slide"
    }
   },
   "source": [
    "## Now let's just look at the first review\n"
   ]
  },
  {
   "cell_type": "code",
   "execution_count": 33,
   "metadata": {
    "slideshow": {
     "slide_type": "subslide"
    }
   },
   "outputs": [
    {
     "name": "stdout",
     "output_type": "stream",
     "text": [
      "\"With all this stuff going down at the moment with MJ i've started listening to his music, watching the odd documentary here and there, watched The Wiz and watched Moonwalker again. Maybe i just want to get a certain insight into this guy who i thought was really cool in the eighties just to maybe make up my mind whether he is guilty or innocent. Moonwalker is part biography, part feature film which i remember going to see at the cinema when it was originally released. Some of it has subtle messages about MJ's feeling towards the press and also the obvious message of drugs are bad m'kay.<br /><br />Visually impressive but of course this is all about Michael Jackson so unless you remotely like MJ in anyway then you are going to hate this and find it boring. Some may call MJ an egotist for consenting to the making of this movie BUT MJ and most of his fans would say that he made it for the fans which if true is really nice of him.<br /><br />The actual feature film bit when it finally starts is only on for 20 minutes or so excluding the Smooth Criminal sequence and Joe Pesci is convincing as a psychopathic all powerful drug lord. Why he wants MJ dead so bad is beyond me. Because MJ overheard his plans? Nah, Joe Pesci's character ranted that he wanted people to know it is he who is supplying drugs etc so i dunno, maybe he just hates MJ's music.<br /><br />Lots of cool things in this like MJ turning into a car and a robot and the whole Speed Demon sequence. Also, the director must have had the patience of a saint when it came to filming the kiddy Bad sequence as usually directors hate working with one kid let alone a whole bunch of them performing a complex dance scene.<br /><br />Bottom line, this movie is for people who like MJ on one level or another (which i think is most people). If not, then stay away. It does try and give off a wholesome message and ironically MJ's bestest buddy in this movie is a girl! Michael Jackson is truly one of the most talented people ever to grace this planet but is he guilty? Well, with all the attention i've gave this subject....hmmm well i don't know because people can be different behind closed doors, i know this for a fact. He is either an extremely nice but stupid guy or one of the most sickest liars. I hope he is not the latter.\"\n",
      "\n"
     ]
    }
   ],
   "source": [
    "import re\n",
    "from re import sub, findall, search   #if you get an error here, you may need to install these packages in anaconda\n",
    "\n",
    "#movie_review_file=open(\"/Users/bernie/Downloads/labeledTrainData.tsv\")\n",
    "movie_review_file=open(\"C:/Users/Alina Arseniev/Downloads/labeledTrainData.tsv\", encoding=\"utf8\" ) \n",
    "\n",
    "all_lines = movie_review_file.readlines() #alternative to loop. Reads all lines into a list\n",
    "\n",
    "first_review=all_lines[1].split('\\t')[2] #First line is header\n",
    "\n",
    "print(first_review)\n",
    "\n",
    "movie_review_file.close()"
   ]
  },
  {
   "cell_type": "markdown",
   "metadata": {
    "slideshow": {
     "slide_type": "slide"
    }
   },
   "source": [
    "## Lets use regex to remove all HTML tags in this review\n",
    "\n",
    "* ### In this case we only have breaks `<br />` but we could imagine others we want to remove like `<h1>` , `</h1>` or `<tag />`.\n",
    "* ### We'll write a regex to capture all of these scenarios. \n",
    "\n",
    "* ### I'm going to add these randomly for illustrative purposes."
   ]
  },
  {
   "cell_type": "code",
   "execution_count": 34,
   "metadata": {
    "collapsed": true,
    "slideshow": {
     "slide_type": "subslide"
    }
   },
   "outputs": [],
   "source": [
    "first_review = first_review[:50] +\"<h1>\" + first_review[50:]\n",
    "\n",
    "first_review = first_review[:100] +\"<\\h1>\" + first_review[100:]\n",
    "\n",
    "first_review = first_review[:150] +\"<tag \\>\" + first_review[150:]"
   ]
  },
  {
   "cell_type": "markdown",
   "metadata": {
    "slideshow": {
     "slide_type": "slide"
    }
   },
   "source": [
    "#### The first character is always <span style=\"color:red\"> *<* </span> so let's start with that"
   ]
  },
  {
   "cell_type": "code",
   "execution_count": 35,
   "metadata": {
    "slideshow": {
     "slide_type": "subslide"
    }
   },
   "outputs": [
    {
     "name": "stdout",
     "output_type": "stream",
     "text": [
      "610 612\n",
      "<b\n",
      "616 618\n",
      "<b\n",
      "957 959\n",
      "<b\n",
      "963 965\n",
      "<b\n",
      "1378 1380\n",
      "<b\n",
      "1384 1386\n",
      "<b\n",
      "1709 1711\n",
      "<b\n",
      "1715 1717\n",
      "<b\n"
     ]
    }
   ],
   "source": [
    "pattern= \"<b\" \n",
    "\n",
    "regex_object=re.finditer(pattern,first_review) #returns an iterator of match objects\n",
    "for match in regex_object:\n",
    "    print(match.start(),match.end())\n",
    "    print(first_review[match.start():match.end()])"
   ]
  },
  {
   "cell_type": "markdown",
   "metadata": {
    "slideshow": {
     "slide_type": "slide"
    }
   },
   "source": [
    "#### Let's make it more generic by adding a wild card ```.``` for first character. "
   ]
  },
  {
   "cell_type": "code",
   "execution_count": null,
   "metadata": {
    "collapsed": true,
    "slideshow": {
     "slide_type": "subslide"
    }
   },
   "outputs": [],
   "source": [
    "pattern= \"<.\" \n",
    "\n",
    "\n",
    "regex_object=re.finditer(pattern,first_review) #returns an iterator of match objects\n",
    "for match in regex_object:\n",
    "    print(match.start(),match.end())\n",
    "    print(first_review[match.start():match.end()])"
   ]
  },
  {
   "cell_type": "markdown",
   "metadata": {
    "slideshow": {
     "slide_type": "slide"
    }
   },
   "source": [
    "#### Alternatively, if we just want to find ```h1``` and ```tag``` we, could give it choices:"
   ]
  },
  {
   "cell_type": "code",
   "execution_count": 36,
   "metadata": {
    "slideshow": {
     "slide_type": "subslide"
    }
   },
   "outputs": [
    {
     "name": "stdout",
     "output_type": "stream",
     "text": [
      "50 52\n",
      "<h\n",
      "150 152\n",
      "<t\n"
     ]
    }
   ],
   "source": [
    "pattern= \"<[h|t]\" \n",
    "\n",
    "\n",
    "regex_object=re.finditer(pattern,first_review) #returns an iterator of match objects\n",
    "for match in regex_object:\n",
    "    print(match.start(),match.end())\n",
    "    print(first_review[match.start():match.end()])"
   ]
  },
  {
   "cell_type": "markdown",
   "metadata": {
    "slideshow": {
     "slide_type": "slide"
    }
   },
   "source": [
    "##### The asterisk will match as many of the previous characters as possible until it reaches the last possible instance of the next character \n",
    "So  <span style=\"color:red\">.* </span> (repeat wildcard any number of times) until last <span style=\"color:red\"> > </span>"
   ]
  },
  {
   "cell_type": "code",
   "execution_count": 37,
   "metadata": {
    "slideshow": {
     "slide_type": "subslide"
    }
   },
   "outputs": [
    {
     "name": "stdout",
     "output_type": "stream",
     "text": [
      "50 1721\n",
      "<h1> MJ i've started listening to his music, watch<\\h1>ing the odd documentary here and there, watch<tag \\>ed The Wiz and watched Moonwalker again. Maybe i just want to get a certain insight into this guy who i thought was really cool in the eighties just to maybe make up my mind whether he is guilty or innocent. Moonwalker is part biography, part feature film which i remember going to see at the cinema when it was originally released. Some of it has subtle messages about MJ's feeling towards the press and also the obvious message of drugs are bad m'kay.<br /><br />Visually impressive but of course this is all about Michael Jackson so unless you remotely like MJ in anyway then you are going to hate this and find it boring. Some may call MJ an egotist for consenting to the making of this movie BUT MJ and most of his fans would say that he made it for the fans which if true is really nice of him.<br /><br />The actual feature film bit when it finally starts is only on for 20 minutes or so excluding the Smooth Criminal sequence and Joe Pesci is convincing as a psychopathic all powerful drug lord. Why he wants MJ dead so bad is beyond me. Because MJ overheard his plans? Nah, Joe Pesci's character ranted that he wanted people to know it is he who is supplying drugs etc so i dunno, maybe he just hates MJ's music.<br /><br />Lots of cool things in this like MJ turning into a car and a robot and the whole Speed Demon sequence. Also, the director must have had the patience of a saint when it came to filming the kiddy Bad sequence as usually directors hate working with one kid let alone a whole bunch of them performing a complex dance scene.<br /><br />\n"
     ]
    }
   ],
   "source": [
    "pattern= \"<[h|t].*>\"\n",
    "\n",
    "\n",
    "\n",
    "regex_object=re.finditer(pattern,first_review) #returns an iterator of match objects\n",
    "for match in regex_object:\n",
    "    print(match.start(),match.end())\n",
    "    print(first_review[match.start():match.end()])"
   ]
  },
  {
   "cell_type": "markdown",
   "metadata": {
    "slideshow": {
     "slide_type": "slide"
    }
   },
   "source": [
    "#### This is greedy! \n",
    "\n",
    "If we want it to stop at first <span style=\"color:red\"> > </span> instead of the last, we give the <span style=\"color:red\"> * </span> the non greedy modifier <span style=\"color:red\"> ? </span>\n",
    "\n",
    "\n",
    "\n",
    "\n"
   ]
  },
  {
   "cell_type": "code",
   "execution_count": 38,
   "metadata": {
    "slideshow": {
     "slide_type": "subslide"
    }
   },
   "outputs": [
    {
     "name": "stdout",
     "output_type": "stream",
     "text": [
      "50 54\n",
      "<h1>\n",
      "150 157\n",
      "<tag \\>\n"
     ]
    }
   ],
   "source": [
    "\n",
    "pattern= \"<[h|t].*?>\"\n",
    "\n",
    "\n",
    "\n",
    "regex_object=re.finditer(pattern,first_review) #returns an iterator of match objects\n",
    "for match in regex_object:\n",
    "    print(match.start(),match.end())\n",
    "    print(first_review[match.start():match.end()])"
   ]
  },
  {
   "cell_type": "markdown",
   "metadata": {
    "slideshow": {
     "slide_type": "slide"
    }
   },
   "source": [
    "#### Let's replace all ```html``` tags with spaces in one line\n"
   ]
  },
  {
   "cell_type": "code",
   "execution_count": 39,
   "metadata": {
    "slideshow": {
     "slide_type": "subslide"
    }
   },
   "outputs": [
    {
     "data": {
      "text/plain": [
       "'\"With all this stuff going down at the moment with  MJ i\\'ve started listening to his music, watch ing the odd documentary here and there, watch ed The Wiz and watched Moonwalker again. Maybe i just want to get a certain insight into this guy who i thought was really cool in the eighties just to maybe make up my mind whether he is guilty or innocent. Moonwalker is part biography, part feature film which i remember going to see at the cinema when it was originally released. Some of it has subtle messages about MJ\\'s feeling towards the press and also the obvious message of drugs are bad m\\'kay.  Visually impressive but of course this is all about Michael Jackson so unless you remotely like MJ in anyway then you are going to hate this and find it boring. Some may call MJ an egotist for consenting to the making of this movie BUT MJ and most of his fans would say that he made it for the fans which if true is really nice of him.  The actual feature film bit when it finally starts is only on for 20 minutes or so excluding the Smooth Criminal sequence and Joe Pesci is convincing as a psychopathic all powerful drug lord. Why he wants MJ dead so bad is beyond me. Because MJ overheard his plans? Nah, Joe Pesci\\'s character ranted that he wanted people to know it is he who is supplying drugs etc so i dunno, maybe he just hates MJ\\'s music.  Lots of cool things in this like MJ turning into a car and a robot and the whole Speed Demon sequence. Also, the director must have had the patience of a saint when it came to filming the kiddy Bad sequence as usually directors hate working with one kid let alone a whole bunch of them performing a complex dance scene.  Bottom line, this movie is for people who like MJ on one level or another (which i think is most people). If not, then stay away. It does try and give off a wholesome message and ironically MJ\\'s bestest buddy in this movie is a girl! Michael Jackson is truly one of the most talented people ever to grace this planet but is he guilty? Well, with all the attention i\\'ve gave this subject....hmmm well i don\\'t know because people can be different behind closed doors, i know this for a fact. He is either an extremely nice but stupid guy or one of the most sickest liars. I hope he is not the latter.\"\\n'"
      ]
     },
     "execution_count": 39,
     "metadata": {},
     "output_type": "execute_result"
    }
   ],
   "source": [
    "re.sub(\"<.*?>\",\" \",first_review)"
   ]
  },
  {
   "cell_type": "markdown",
   "metadata": {
    "slideshow": {
     "slide_type": "slide"
    }
   },
   "source": [
    "## Activity:\n",
    "#### There are many more things you can do with regular expressions. Perhaps the most useful is lookahead and lookbehind functions.\n",
    "\n",
    "Try to think of something you might like to use a regular expression to find in your own research."
   ]
  },
  {
   "cell_type": "markdown",
   "metadata": {
    "slideshow": {
     "slide_type": "slide"
    }
   },
   "source": [
    "# Part III: Natural Language Processing Toolkit\n",
    "### (Adapted from NLTK website)\n",
    "\n",
    "### See great intro to programming for text analysis [here](http://www.nltk.org/book/)"
   ]
  },
  {
   "cell_type": "markdown",
   "metadata": {
    "slideshow": {
     "slide_type": "slide"
    }
   },
   "source": [
    "## Tokenizing"
   ]
  },
  {
   "cell_type": "code",
   "execution_count": 40,
   "metadata": {
    "slideshow": {
     "slide_type": "subslide"
    }
   },
   "outputs": [
    {
     "name": "stdout",
     "output_type": "stream",
     "text": [
      "['I', 'study', 'sociology', '.', 'I', 'am', 'a', 'graduate', 'student', 'at', 'UCLA', ',', 'studying', 'to', 'be', 'a', 'professor']\n"
     ]
    }
   ],
   "source": [
    "import nltk #if you get an error here, you may need to download nltk in Anaconda\n",
    "\n",
    "#TOKENIZING\n",
    "my_sentences=\"I study sociology. I am a graduate student at UCLA, studying to be a professor\"\n",
    "tokens = nltk.word_tokenize(my_sentences)\n",
    "\n",
    "\n",
    "print(tokens)"
   ]
  },
  {
   "cell_type": "markdown",
   "metadata": {
    "slideshow": {
     "slide_type": "slide"
    }
   },
   "source": [
    "## Stemming"
   ]
  },
  {
   "cell_type": "code",
   "execution_count": 41,
   "metadata": {
    "slideshow": {
     "slide_type": "subslide"
    }
   },
   "outputs": [
    {
     "name": "stdout",
     "output_type": "stream",
     "text": [
      "studi studi studi\n"
     ]
    }
   ],
   "source": [
    "from nltk.stem.porter import PorterStemmer\n",
    "porter_stemmer=PorterStemmer()\n",
    "\n",
    "stem_studying= porter_stemmer.stem('studying')\n",
    "stem_study= porter_stemmer.stem('study')\n",
    "stem_studied= porter_stemmer.stem('studied')\n",
    "\n",
    "print(stem_studying, stem_study, stem_studied)"
   ]
  },
  {
   "cell_type": "markdown",
   "metadata": {
    "slideshow": {
     "slide_type": "slide"
    }
   },
   "source": [
    "## Removing Stopwords"
   ]
  },
  {
   "cell_type": "code",
   "execution_count": 42,
   "metadata": {
    "slideshow": {
     "slide_type": "subslide"
    }
   },
   "outputs": [
    {
     "name": "stdout",
     "output_type": "stream",
     "text": [
      "['I', 'study', 'sociology', '.', 'I', 'am', 'a', 'graduate', 'student', 'at', 'UCLA', ',', 'studying', 'to', 'be', 'a', 'professor']\n",
      "['I', 'study', 'sociology', '.', 'I', 'graduate', 'student', 'UCLA', ',', 'studying', 'professor']\n"
     ]
    }
   ],
   "source": [
    "\n",
    "from nltk.corpus import stopwords #if you get an error here, you may need to download nltk\n",
    "filtered_words= [word for word in tokens if word not in stopwords.words('english')]\n",
    "\n",
    "for i in [tokens, filtered_words]:\n",
    "    print(i)"
   ]
  },
  {
   "cell_type": "markdown",
   "metadata": {
    "slideshow": {
     "slide_type": "slide"
    }
   },
   "source": [
    "## Tag parts of speech\n"
   ]
  },
  {
   "cell_type": "code",
   "execution_count": 43,
   "metadata": {
    "slideshow": {
     "slide_type": "subslide"
    }
   },
   "outputs": [
    {
     "name": "stdout",
     "output_type": "stream",
     "text": [
      "[('I', 'PRP'), ('study', 'VBP'), ('sociology', 'NN'), ('.', '.'), ('I', 'PRP'), ('am', 'VBP'), ('a', 'DT'), ('graduate', 'NN'), ('student', 'NN'), ('at', 'IN'), ('UCLA', 'NNP'), (',', ','), ('studying', 'VBG'), ('to', 'TO'), ('be', 'VB'), ('a', 'DT'), ('professor', 'NN')]\n",
      "(S\n",
      "  I/PRP\n",
      "  study/VBP\n",
      "  sociology/NN\n",
      "  ./.\n",
      "  I/PRP\n",
      "  am/VBP\n",
      "  a/DT\n",
      "  graduate/NN\n",
      "  student/NN\n",
      "  at/IN\n",
      "  (ORGANIZATION UCLA/NNP)\n",
      "  ,/,\n",
      "  studying/VBG\n",
      "  to/TO\n",
      "  be/VB\n",
      "  a/DT\n",
      "  professor/NN)\n",
      "[('I', 'PRP'), ('study', 'VBP'), ('sociology', 'NN'), ('.', '.'), ('I', 'PRP'), ('am', 'VBP'), ('a', 'DT'), ('graduate', 'NN'), ('student', 'NN'), ('at', 'IN'), ('UCLA', 'NNP'), (',', ','), ('studying', 'VBG'), ('to', 'TO'), ('be', 'VB'), ('a', 'DT'), ('professor', 'NN')]\n"
     ]
    }
   ],
   "source": [
    "\n",
    "tagged = nltk.pos_tag(tokens)\n",
    "\n",
    "entities = nltk.chunk.ne_chunk(tagged)\n",
    "\n",
    "for i in [tagged, entities]:\n",
    "    print(i)\n",
    "\n",
    "print(tagged)"
   ]
  },
  {
   "cell_type": "markdown",
   "metadata": {
    "slideshow": {
     "slide_type": "slide"
    }
   },
   "source": [
    "# Part IV : Intro to ML  \n",
    "\n",
    "* Naive Bayes is an algorithm from ***machine learning***. Machine learning is an area of statistics/computer science concerning algorithms that learn from data how to perform tasks.\n",
    "\n",
    "\n",
    "* In data analysis, the two tasks we are primarily interested in are **classification** and **prediction**. In **classification** problems, we seek to separate the data into meaningful categories based on differences in **features** (covariates). In **prediction** we seek to predict the category/outcome of novel data using an algorithm that has been previously trained on examples. **Logistic** regression is an algorithm that could be used to predict outcomes of novel data.\n"
   ]
  },
  {
   "cell_type": "markdown",
   "metadata": {
    "slideshow": {
     "slide_type": "slide"
    }
   },
   "source": [
    "# Naive Bayes\n",
    "\n",
    "* Naive Bayes is a class of **supervised** ML classifiers that are commonly used for text categorization. It is **supervised** because we specify in advance the categories we want the algorithm to look for, and give it examples of each category.\n",
    "\n",
    "\n",
    "* We're not really going to focus on how it works, but we can if you want.\n"
   ]
  },
  {
   "cell_type": "markdown",
   "metadata": {
    "slideshow": {
     "slide_type": "slide"
    }
   },
   "source": [
    "# Example: learning the sentiment of movie reviews\n",
    "\n",
    "* Goal: Teach a NB how to identify positive and negative movie reviews. \n",
    "\n",
    "\n",
    "* First we'll feed it **labeled training examples** of positive and negative reviews.\n",
    "\n",
    "\n",
    "* Then we'll see how well the algorithm does at predicting the sentiment of a review it hasn't seen before."
   ]
  },
  {
   "cell_type": "markdown",
   "metadata": {
    "collapsed": true,
    "slideshow": {
     "slide_type": "slide"
    }
   },
   "source": [
    "#### Opening more packages"
   ]
  },
  {
   "cell_type": "code",
   "execution_count": 44,
   "metadata": {
    "collapsed": true,
    "slideshow": {
     "slide_type": "subslide"
    }
   },
   "outputs": [],
   "source": [
    "import pandas #the package containing the dataframe object as you use it in R. \n",
    "import numpy\n",
    "from sklearn.feature_extraction.text import CountVectorizer #for converting to token counts\n",
    "from sklearn.naive_bayes import BernoulliNB #bernoulli model\n",
    "from sklearn.metrics import accuracy_score #for checking training against test data\n",
    "from sklearn.metrics import confusion_matrix #confusion matrix also for checking accuracy\n",
    "###create object with settings for  CountVectorizer ###\n",
    "vectorizer_binary = CountVectorizer(binary=True) "
   ]
  },
  {
   "cell_type": "markdown",
   "metadata": {
    "slideshow": {
     "slide_type": "slide"
    }
   },
   "source": [
    "## Splitting or slicing data into training and testing sets"
   ]
  },
  {
   "cell_type": "code",
   "execution_count": 45,
   "metadata": {
    "slideshow": {
     "slide_type": "subslide"
    }
   },
   "outputs": [
    {
     "name": "stdout",
     "output_type": "stream",
     "text": [
      "25000\n",
      "17500\n"
     ]
    }
   ],
   "source": [
    "#movie_review_file= pandas.read_csv(\"/Users/bernie/Downloads/labeledTrainData.tsv\",sep='\\t')\n",
    "movie_review_file=pandas.read_csv(\"C:/Users/Alina Arseniev/Downloads/labeledTrainData.tsv\",sep='\\t', encoding=\"utf8\" ) \n",
    "\n",
    "N = movie_review_file.shape[0] #First see how many rows of data we have.\n",
    "N_train = int(0.7*N) #Now figure out how many rows would be 70% of this\n",
    "print(N) #So you can see...\n",
    "print(N_train)"
   ]
  },
  {
   "cell_type": "code",
   "execution_count": 46,
   "metadata": {
    "collapsed": true,
    "slideshow": {
     "slide_type": "subslide"
    }
   },
   "outputs": [],
   "source": [
    "r = numpy.random.RandomState(0) #This allows us to call numpy's random functions in a replicable way\n",
    "idx = r.permutation(N)\n",
    "idx_train = idx[:N_train] #Pull 70% of the randomly permuted indices into a list of training indices\n",
    "idx_test = idx[N_train:] #Pull the remaining 30% into a list of testing indices "
   ]
  },
  {
   "cell_type": "markdown",
   "metadata": {
    "slideshow": {
     "slide_type": "slide"
    }
   },
   "source": [
    "## Setting up training set features and targets "
   ]
  },
  {
   "cell_type": "code",
   "execution_count": 47,
   "metadata": {
    "collapsed": true,
    "slideshow": {
     "slide_type": "subslide"
    }
   },
   "outputs": [],
   "source": [
    "review_train_features = movie_review_file['review'][idx_train] \n",
    "#This grabs the column of reviews and all the rows with indices in our training set\n",
    "review_train_targets = movie_review_file['sentiment'][idx_train]\n",
    "#This grabs the column of sentiment (what we want to predict) and then all the indices in our training set"
   ]
  },
  {
   "cell_type": "markdown",
   "metadata": {
    "slideshow": {
     "slide_type": "slide"
    }
   },
   "source": [
    "## Setting up test set features and targets "
   ]
  },
  {
   "cell_type": "code",
   "execution_count": 48,
   "metadata": {
    "collapsed": true,
    "slideshow": {
     "slide_type": "subslide"
    }
   },
   "outputs": [],
   "source": [
    "review_test_features = movie_review_file['review'][idx_test] #And of course the syntax is identical for the test data \n",
    "review_test_targets = movie_review_file['sentiment'][idx_test]"
   ]
  },
  {
   "cell_type": "markdown",
   "metadata": {
    "slideshow": {
     "slide_type": "slide"
    }
   },
   "source": [
    "##  Convert reviews to a matrix of token counts\n"
   ]
  },
  {
   "cell_type": "code",
   "execution_count": 49,
   "metadata": {
    "collapsed": true,
    "slideshow": {
     "slide_type": "subslide"
    }
   },
   "outputs": [],
   "source": [
    "train_features_bin = vectorizer_binary.fit_transform(review_train_features)\n",
    "test_features_bin = vectorizer_binary.transform(review_test_features)"
   ]
  },
  {
   "cell_type": "markdown",
   "metadata": {
    "slideshow": {
     "slide_type": "slide"
    }
   },
   "source": [
    "## Classifying and testing with  Bernoulli model\n"
   ]
  },
  {
   "cell_type": "code",
   "execution_count": 50,
   "metadata": {
    "collapsed": true,
    "slideshow": {
     "slide_type": "subslide"
    }
   },
   "outputs": [],
   "source": [
    "modelBNB = BernoulliNB() \n",
    "modelBNB.fit(train_features_bin,review_train_targets) #fitting Bernoulli model to training data\n",
    "labelsBNB = modelBNB.predict(test_features_bin) #testing out fitted model from training in test set"
   ]
  },
  {
   "cell_type": "markdown",
   "metadata": {
    "slideshow": {
     "slide_type": "slide"
    }
   },
   "source": [
    "## Checking how well the model performed "
   ]
  },
  {
   "cell_type": "code",
   "execution_count": 51,
   "metadata": {
    "slideshow": {
     "slide_type": "subslide"
    }
   },
   "outputs": [
    {
     "name": "stdout",
     "output_type": "stream",
     "text": [
      "0.8536\n"
     ]
    }
   ],
   "source": [
    "print(accuracy_score(review_test_targets,labelsBNB))"
   ]
  },
  {
   "cell_type": "code",
   "execution_count": 52,
   "metadata": {
    "slideshow": {
     "slide_type": "subslide"
    }
   },
   "outputs": [
    {
     "name": "stdout",
     "output_type": "stream",
     "text": [
      "[[3264  438]\n",
      " [ 660 3138]]\n"
     ]
    }
   ],
   "source": [
    "confused_mat = confusion_matrix(review_test_targets, labelsBNB) #why is a confusion matrix better to look at than just accuracy?\n",
    "print(confused_mat)"
   ]
  }
 ],
 "metadata": {
  "celltoolbar": "Slideshow",
  "kernelspec": {
   "display_name": "Python 3",
   "language": "python",
   "name": "python3"
  },
  "language_info": {
   "codemirror_mode": {
    "name": "ipython",
    "version": 3
   },
   "file_extension": ".py",
   "mimetype": "text/x-python",
   "name": "python",
   "nbconvert_exporter": "python",
   "pygments_lexer": "ipython3",
   "version": "3.6.3"
  }
 },
 "nbformat": 4,
 "nbformat_minor": 2
}
